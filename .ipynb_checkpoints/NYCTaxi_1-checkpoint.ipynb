{
  "cells": [
    {
      "cell_type": "raw",
      "metadata": {},
      "source": [
        "---\n",
        "title: \"NYCTaxi\"\n",
        "author: \"양은찬\"\n",
        "format: dashboard\n",
        "execute: \n",
        "  enabled: true\n",
        "  cache: false\n",
        "  freeze: false\n",
        "  error: true\n",
        "---"
      ],
      "id": "427a5719"
    },
    {
      "cell_type": "code",
      "metadata": {},
      "source": [
        "import numpy as np\n",
        "import pandas as pd\n",
        "import plotly.express as px\n",
        "import plotly.io as pio\n",
        "pd.options.plotting.backend = \"plotly\"\n",
        "pio.templates.default = \"plotly_white\"\n",
        "#--#\n",
        "df = pd.read_csv(\"https://raw.githubusercontent.com/guebin/DV2023/main/posts/NYCTaxi.csv\").assign(\n",
        "    log_trip_duration = lambda df: np.log(df.trip_duration),\n",
        "    pickup_datetime = lambda df: df.pickup_datetime.apply(pd.to_datetime),\n",
        "    dropoff_datetime = lambda df: df.dropoff_datetime.apply(pd.to_datetime),\n",
        "    dist = lambda df: np.sqrt((df.pickup_latitude-df.dropoff_latitude)**2 + (df.pickup_longitude-df.dropoff_longitude)**2),\n",
        "    #---#\n",
        "    vendor_id = lambda df: df.vendor_id.map({1:'A',2:'B'})\n",
        ").assign(\n",
        "    speed = lambda df: df.dist / df.trip_duration,\n",
        "    pickup_hour = lambda df: df.pickup_datetime.dt.hour,\n",
        "    dropoff_hour = lambda df: df.dropoff_datetime.dt.hour,\n",
        "    dayofweek = lambda df: df.pickup_datetime.dt.dayofweek\n",
        ")\n",
        "df_small = df[::100].reset_index(drop=True)"
      ],
      "id": "1d396358",
      "execution_count": null,
      "outputs": []
    },
    {
      "cell_type": "markdown",
      "metadata": {},
      "source": [
        "# 기말고사1-(1),(2)\n",
        "\n",
        "## Row {Height=100%}\n"
      ],
      "id": "25926a38"
    },
    {
      "cell_type": "code",
      "metadata": {},
      "source": [
        "tidydata = df.groupby(['pickup_hour', 'dayofweek']).speed.mean().reset_index()\n",
        "tidydata['dayofweek'] = tidydata['dayofweek'].map({0:'월', 1:'화', 2:'수', 3:'목', 4:'금', 5:'토', 6:'일'})\n",
        "#--#\n",
        "fig = px.density_heatmap(\n",
        "    data_frame=tidydata,\n",
        "    x='pickup_hour',\n",
        "    y='dayofweek',\n",
        "    z='speed',\n",
        "    nbinsx=24,\n",
        "    nbinsy=7,\n",
        "    height=400\n",
        ")\n",
        "fig.update_layout(\n",
        "    xaxis_title='pickup 시간',\n",
        "    yaxis_title='요일',\n",
        "    coloraxis_colorbar_title='평균 속력'\n",
        ")\n",
        "fig.show()"
      ],
      "id": "ed57e4ce",
      "execution_count": null,
      "outputs": []
    },
    {
      "cell_type": "markdown",
      "metadata": {},
      "source": [
        "## Row {Height=100%}\n"
      ],
      "id": "36b7b12a"
    },
    {
      "cell_type": "code",
      "metadata": {},
      "source": [
        "tidydata_dist = df.groupby(['pickup_hour', 'dayofweek']).dist.mean().reset_index()\n",
        "tidydata_dist['dayofweek'] = tidydata_dist['dayofweek'].map({0:'월', 1:'화', 2:'수', 3:'목', 4:'금', 5:'토', 6:'일'})\n",
        "#--#\n",
        "fig_dist = px.density_heatmap(\n",
        "    data_frame=tidydata_dist,\n",
        "    x='pickup_hour',\n",
        "    y='dayofweek',\n",
        "    z='dist',\n",
        "    nbinsx=24,\n",
        "    nbinsy=7,\n",
        "    height=350\n",
        ")\n",
        "fig_dist.update_layout(\n",
        "    xaxis_title='시간',\n",
        "    yaxis_title='요일',\n",
        "    coloraxis_colorbar_title='평균 이동 거리'\n",
        ")\n",
        "fig_dist.show()"
      ],
      "id": "a4b5a9e3",
      "execution_count": null,
      "outputs": []
    },
    {
      "cell_type": "markdown",
      "metadata": {},
      "source": [
        "# 기말고사1-(3)\n",
        "\n",
        "## Column {width=100%}\n"
      ],
      "id": "e27a6e20"
    },
    {
      "cell_type": "code",
      "metadata": {},
      "source": [
        "import pandas as pd\n",
        "import plotly.express as px\n",
        "pcol = ['pickup_datetime', 'pickup_longitude', 'pickup_latitude', 'pickup_hour']\n",
        "dcol = ['dropoff_datetime', 'dropoff_longitude', 'dropoff_latitude', 'dropoff_hour']\n",
        "#--#\n",
        "def transform(df):\n",
        "    pickup = df.loc[:, ['id']+pcol].set_axis(['id', 'datetime', 'longitude', 'latitude', 'hour'], axis=1).assign(type='pickup')\n",
        "    dropoff = df.loc[:, ['id']+dcol].set_axis(['id', 'datetime', 'longitude', 'latitude', 'hour'], axis=1).assign(type='dropoff')\n",
        "    return pd.concat([pickup, dropoff], axis=0)\n",
        "df_left = df_small.drop(pcol+dcol, axis=1)\n",
        "df_right = pd.concat([transform(df) for i, df in df_small.groupby('id')]).reset_index(drop=True)\n",
        "df_small2 = df_left.merge(df_right)\n",
        "tidydata = df_small2.assign(speed_cut=pd.qcut(df_small2['speed'], 4, labels=['매우느림','조금느림','조금빠름','매우빠름'])).sort_values('speed_cut')\n",
        "fig = px.line_mapbox(\n",
        "    data_frame=tidydata,\n",
        "    lat='latitude',\n",
        "    lon='longitude',\n",
        "    line_group='id',\n",
        "    color='speed_cut',\n",
        "    center={'lat': 40.7322, 'lon': -73.9052},\n",
        "    mapbox_style='carto-positron',\n",
        "    zoom=10,\n",
        "    width=750,\n",
        "    height=600\n",
        ")\n",
        "scatter_data = px.scatter_mapbox(\n",
        "    data_frame=tidydata,\n",
        "    lat='latitude',\n",
        "    lon='longitude',\n",
        "    size='passenger_count',\n",
        "    size_max=10,\n",
        "    color='speed_cut',\n",
        "    mapbox_style='carto-positron',\n",
        "    zoom=10,\n",
        "    width=750,\n",
        "    height=600\n",
        ").data\n",
        "for sd in scatter_data:\n",
        "    fig.add_trace(sd)\n",
        "\n",
        "fig.update_traces(\n",
        "    line={'width': 1},\n",
        "    opacity=0.8\n",
        ")\n",
        "fig.show(config={'scrollZoom': False})"
      ],
      "id": "0d2976ac",
      "execution_count": null,
      "outputs": []
    }
  ],
  "metadata": {
    "kernelspec": {
      "name": "python3",
      "language": "python",
      "display_name": "Python 3 (ipykernel)"
    }
  },
  "nbformat": 4,
  "nbformat_minor": 5
}